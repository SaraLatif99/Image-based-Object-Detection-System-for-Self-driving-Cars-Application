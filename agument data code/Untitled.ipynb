{
 "cells": [
  {
   "cell_type": "code",
   "execution_count": 56,
   "metadata": {
    "collapsed": true
   },
   "outputs": [],
   "source": [
    "import json\n",
    "import cv2"
   ]
  },
  {
   "cell_type": "code",
   "execution_count": 57,
   "metadata": {
    "collapsed": true
   },
   "outputs": [],
   "source": [
    "with open(\"label.idl\",\"r\")as f:\n",
    "    lines=f.readlines()"
   ]
  },
  {
   "cell_type": "code",
   "execution_count": 58,
   "metadata": {},
   "outputs": [],
   "source": [
    "label={}\n",
    "for line in lines:\n",
    "    l = json.loads(line)\n",
    "    label.update(l)"
   ]
  },
  {
   "cell_type": "code",
   "execution_count": 59,
   "metadata": {},
   "outputs": [
    {
     "data": {
      "text/plain": [
       "10000"
      ]
     },
     "execution_count": 59,
     "metadata": {},
     "output_type": "execute_result"
    }
   ],
   "source": [
    "len(label.keys())"
   ]
  },
  {
   "cell_type": "code",
   "execution_count": 60,
   "metadata": {},
   "outputs": [
    {
     "name": "stdout",
     "output_type": "stream",
     "text": [
      "10001\n"
     ]
    }
   ],
   "source": [
    "imglist = []\n",
    "for i in range(10001):\n",
    "    imglist.append(\"{}\".format(60091+i)+\".jpg\")\n",
    "print(len(imglist))\n"
   ]
  },
  {
   "cell_type": "code",
   "execution_count": 61,
   "metadata": {},
   "outputs": [],
   "source": [
    "#import numpy as np\n",
    "#a=label[imglist[0]]\n",
    "#print(a)\n",
    "#a=np.array(a)\n",
    "#print(len(a.shape))\n",
    "#print(len(a))"
   ]
  },
  {
   "cell_type": "code",
   "execution_count": 21,
   "metadata": {},
   "outputs": [
    {
     "ename": "AttributeError",
     "evalue": "'NoneType' object has no attribute 'shape'",
     "output_type": "error",
     "traceback": [
      "\u001b[0;31m---------------------------------------------------------------------------\u001b[0m",
      "\u001b[0;31mAttributeError\u001b[0m                            Traceback (most recent call last)",
      "\u001b[0;32m<ipython-input-21-730fdce137e2>\u001b[0m in \u001b[0;36m<module>\u001b[0;34m()\u001b[0m\n\u001b[1;32m      7\u001b[0m \u001b[0mimgname\u001b[0m \u001b[0;34m=\u001b[0m \u001b[0mimglist1\u001b[0m\u001b[0;34m[\u001b[0m\u001b[0;36m0\u001b[0m\u001b[0;34m]\u001b[0m\u001b[0;34m\u001b[0m\u001b[0m\n\u001b[1;32m      8\u001b[0m \u001b[0mimg\u001b[0m \u001b[0;34m=\u001b[0m \u001b[0mcv2\u001b[0m\u001b[0;34m.\u001b[0m\u001b[0mimread\u001b[0m\u001b[0;34m(\u001b[0m\u001b[0mimgroot\u001b[0m \u001b[0;34m+\u001b[0m \u001b[0mimgname\u001b[0m\u001b[0;34m)\u001b[0m\u001b[0;34m\u001b[0m\u001b[0m\n\u001b[0;32m----> 9\u001b[0;31m \u001b[0mhi\u001b[0m\u001b[0;34m,\u001b[0m \u001b[0mwi\u001b[0m \u001b[0;34m=\u001b[0m \u001b[0mimg\u001b[0m\u001b[0;34m.\u001b[0m\u001b[0mshape\u001b[0m\u001b[0;34m[\u001b[0m\u001b[0;34m:\u001b[0m\u001b[0;36m2\u001b[0m\u001b[0;34m]\u001b[0m\u001b[0;34m\u001b[0m\u001b[0m\n\u001b[0m",
      "\u001b[0;31mAttributeError\u001b[0m: 'NoneType' object has no attribute 'shape'"
     ]
    }
   ],
   "source": [
    "imgroot = \"./DATA/testing/testing/\"\n",
    "imglist1 = []\n",
    "\n",
    "for i in range(200):\n",
    "    imglist1.append(\"{}\".format(60091 + i) + \".jpg\")\n",
    "\n",
    "imgname = imglist1[0]\n",
    "img = cv2.imread(imgroot + imgname)\n",
    "hi, wi = img.shape[:2]"
   ]
  },
  {
   "cell_type": "code",
   "execution_count": 119,
   "metadata": {},
   "outputs": [],
   "source": [
    "import cv2\n",
    "record ={}\n",
    "imglist1 = []\n",
    "r1=[]\n",
    "r2=[]\n",
    "cnt = 1\n",
    "for i in range(21):\n",
    "    imglist1.append(\"{}\".format(60090 + i) + \".jpg\")\n",
    "\n",
    "\n",
    "for i in range(1,len(imglist1)):\n",
    "    img = cv2.imread(imglist1[i])\n",
    "    #mid = 320 \n",
    "    crop = 330\n",
    "    hi, wi = img.shape[:2]\n",
    "    crop1 = img[:hi, :crop]\n",
    "    crop2 = img[:hi, crop+1:-1]\n",
    "    #cv2.imshow(\"cropped\", crop_img)\n",
    "    #cv2.waitKey(0)\n",
    "\n",
    "    \n",
    "    cv2.imwrite('%d' %(2*i-1)+'.jpg', crop1);\n",
    "\n",
    "    cv2.imwrite('%d' %(2*i)+'.jpg', crop2); \n",
    "    \n",
    "    # giveorigin lable \n",
    "    a=label[imglist1[i]]\n",
    "    a=np.array(a)\n",
    "    if (a.shape[0])>0:\n",
    "        for j in range(a.shape[0]):\n",
    "\n",
    "            if (a[j][2]<=crop):\n",
    "\n",
    "                r1.append([a[j][0],a[j][1],a[j][2],a[j][3],a[j][4]])\n",
    "                #np.float64(bboxl).tolist()\n",
    "\n",
    "            elif (a[j][0]>=crop):\n",
    "                r2.append([a[j][0]-crop,a[j][1],a[j][2]-crop,a[j][3],a[j][4]])\n",
    "\n",
    "            else:\n",
    "\n",
    "                r1.append([a[j][0],a[j][1],crop,a[j][3],a[j][4]])\n",
    "\n",
    "                r2.append([crop,a[j][1],a[j][2]-crop,a[j][3],a[j][4]])\n",
    "\n",
    "        record[2*i-1]=np.float64(r1).tolist()\n",
    "        \n",
    "        record[2*i]=np.float64(r2).tolist()\n",
    "        \n",
    "    else:\n",
    "        record[2*i-1]=np.float64(r1).tolist()\n",
    "        \n",
    "        record[2*i]=np.float64(r2).tolist()\n",
    "    del r1[:]\n",
    "    del r2[:]\n",
    "    \n",
    "import json\n",
    "json = json.dumps(record)\n",
    "f = open(\"testresult.json\", \"w\")\n",
    "f.write(json)\n",
    "f.close()"
   ]
  },
  {
   "cell_type": "code",
   "execution_count": 80,
   "metadata": {},
   "outputs": [
    {
     "name": "stdout",
     "output_type": "stream",
     "text": [
      "0\n",
      "1\n"
     ]
    }
   ],
   "source": [
    "for j in range(len(a.shape)):\n",
    "    print(j)"
   ]
  },
  {
   "cell_type": "code",
   "execution_count": 81,
   "metadata": {},
   "outputs": [
    {
     "data": {
      "text/plain": [
       "2"
      ]
     },
     "execution_count": 81,
     "metadata": {},
     "output_type": "execute_result"
    }
   ],
   "source": [
    "len(a.shape)"
   ]
  },
  {
   "cell_type": "code",
   "execution_count": 82,
   "metadata": {},
   "outputs": [
    {
     "data": {
      "text/plain": [
       "[0, 1]"
      ]
     },
     "execution_count": 82,
     "metadata": {},
     "output_type": "execute_result"
    }
   ],
   "source": [
    "range(len(a.shape))"
   ]
  },
  {
   "cell_type": "code",
   "execution_count": 83,
   "metadata": {},
   "outputs": [
    {
     "name": "stdout",
     "output_type": "stream",
     "text": [
      "[[ 171.33312  188.49996  243.8336   240.66648    1.     ]]\n"
     ]
    }
   ],
   "source": [
    "print(a)"
   ]
  },
  {
   "cell_type": "code",
   "execution_count": 84,
   "metadata": {},
   "outputs": [
    {
     "data": {
      "text/plain": [
       "array([[ 171.33312,  188.49996,  243.8336 ,  240.66648,    1.     ]])"
      ]
     },
     "execution_count": 84,
     "metadata": {},
     "output_type": "execute_result"
    }
   ],
   "source": [
    "a"
   ]
  },
  {
   "cell_type": "code",
   "execution_count": 85,
   "metadata": {},
   "outputs": [
    {
     "data": {
      "text/plain": [
       "'60110.jpg'"
      ]
     },
     "execution_count": 85,
     "metadata": {},
     "output_type": "execute_result"
    }
   ],
   "source": [
    "imglist1[20]"
   ]
  },
  {
   "cell_type": "code",
   "execution_count": 86,
   "metadata": {},
   "outputs": [
    {
     "data": {
      "text/plain": [
       "21"
      ]
     },
     "execution_count": 86,
     "metadata": {},
     "output_type": "execute_result"
    }
   ],
   "source": [
    "len(imglist1)"
   ]
  },
  {
   "cell_type": "code",
   "execution_count": 88,
   "metadata": {},
   "outputs": [
    {
     "data": {
      "text/plain": [
       "[1, 2, 3, 4, 5, 6, 7, 8, 9, 10, 11, 12, 13, 14, 15, 16, 17, 18, 19, 20]"
      ]
     },
     "execution_count": 88,
     "metadata": {},
     "output_type": "execute_result"
    }
   ],
   "source": [
    "range(1,len(imglist1))"
   ]
  },
  {
   "cell_type": "code",
   "execution_count": 107,
   "metadata": {
    "collapsed": true
   },
   "outputs": [],
   "source": [
    "a=label[imglist1[3]]\n",
    "a=np.array(a)"
   ]
  },
  {
   "cell_type": "code",
   "execution_count": 108,
   "metadata": {},
   "outputs": [
    {
     "data": {
      "text/plain": [
       "array([], dtype=float64)"
      ]
     },
     "execution_count": 108,
     "metadata": {},
     "output_type": "execute_result"
    }
   ],
   "source": [
    "a"
   ]
  },
  {
   "cell_type": "code",
   "execution_count": 109,
   "metadata": {},
   "outputs": [
    {
     "name": "stdout",
     "output_type": "stream",
     "text": [
      "0\n"
     ]
    }
   ],
   "source": [
    "print(a.shape[0])"
   ]
  }
 ],
 "metadata": {
  "kernelspec": {
   "display_name": "Python 2",
   "language": "python",
   "name": "python2"
  },
  "language_info": {
   "codemirror_mode": {
    "name": "ipython",
    "version": 2
   },
   "file_extension": ".py",
   "mimetype": "text/x-python",
   "name": "python",
   "nbconvert_exporter": "python",
   "pygments_lexer": "ipython2",
   "version": "2.7.14"
  }
 },
 "nbformat": 4,
 "nbformat_minor": 2
}
